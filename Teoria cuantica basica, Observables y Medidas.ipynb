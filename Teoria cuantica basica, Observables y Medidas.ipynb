{
 "cells": [
  {
   "cell_type": "markdown",
   "metadata": {},
   "source": [
    "# Teoría cuántica básica, Observables y Medidas"
   ]
  },
  {
   "cell_type": "markdown",
   "metadata": {},
   "source": [
    "## Simule el primer sistema cuántico descrito en la sección 4.1.\n",
    "\n",
    "El sistema consiste en una partícula confinada a un conjunto discreto de posiciones en una línea. El simulador debe permitir especificar el número de posiciones y un vector ket de estado asignando las amplitudes.\n",
    "\n",
    "1. El sistema debe calcular la probabilidad de encontrarlo en una posición en particular."
   ]
  },
  {
   "cell_type": "code",
   "execution_count": 13,
   "metadata": {},
   "outputs": [
    {
     "name": "stdout",
     "output_type": "stream",
     "text": [
      "Punto 1:\n",
      "La probabilidad de hallar la partícula en la posición 1 es: 0.17375886524822695%\n"
     ]
    }
   ],
   "source": [
    "import numpy as np\n",
    "\n",
    "# Definir el estado cuántico como un array de amplitudes\n",
    "estado_cuantico = np.array([3, 7, 12, 8, 4])\n",
    "\n",
    "# Elegir la posición a evaluar\n",
    "posicion = 1\n",
    "\n",
    "# Calcular la probabilidad de encontrar la partícula en la posición dada\n",
    "amplitud_cuadrada = np.abs(estado_cuantico[posicion])**2\n",
    "norma_cuadrada = np.sum(np.abs(estado_cuantico)**2)\n",
    "\n",
    "if norma_cuadrada == 0:\n",
    "    raise ValueError(\"La division entre 0 no esta definida.\")\n",
    "\n",
    "probabilidad = (amplitud_cuadrada / norma_cuadrada).item()\n",
    "print(f\"Punto 1:\\nLa probabilidad de hallar la partícula en la posición {posicion} es: {probabilidad}%\")"
   ]
  },
  {
   "cell_type": "markdown",
   "metadata": {},
   "source": [
    "2. El sistema si se le da otro vector Ket debe buscar la probabilidad de transitar del primer vector al segundo."
   ]
  },
  {
   "cell_type": "code",
   "execution_count": 14,
   "metadata": {},
   "outputs": [
    {
     "name": "stdout",
     "output_type": "stream",
     "text": [
      "Punto 2:\n",
      "Primer vector: [ 2  4  6  8 10 12] \n",
      "Segundo vector: [ 0  0  0  0 10  0]\n",
      "La probabilidad de transitar del primer vector al segundo es de: 0.2747252747252748%\n"
     ]
    }
   ],
   "source": [
    "import numpy as np\n",
    "\n",
    "# Definir el primer vector ket\n",
    "vector_inicial = np.array([2, 4, 6, 8, 10, 12])\n",
    "\n",
    "# Definir la posición de transición\n",
    "posicion_transicion = 4\n",
    "\n",
    "# Construir el segundo vector ket con la transición\n",
    "vector_final = np.array([(vector_inicial[i] if i == posicion_transicion else 0) for i in range(len(vector_inicial))])\n",
    "\n",
    "print(\"Punto 2:\\nPrimer vector:\", vector_inicial, \"\\nSegundo vector:\", vector_final)\n",
    "\n",
    "# Normalizar los vectores\n",
    "vector_inicial = vector_inicial / np.linalg.norm(vector_inicial)\n",
    "vector_final = vector_final / np.linalg.norm(vector_final)\n",
    "\n",
    "# Calcular la probabilidad de transición\n",
    "producto_interno = np.vdot(vector_final, vector_inicial)\n",
    "probabilidad_transicion = (np.abs(producto_interno))**2\n",
    "\n",
    "print(f\"La probabilidad de transitar del primer vector al segundo es de: {probabilidad_transicion}%\")"
   ]
  },
  {
   "cell_type": "markdown",
   "metadata": {},
   "source": [
    "## COMPLETE LOS RETOS DE PROGRMACIÓN DEL CAPÍTULO 4. \n",
    "\n",
    "1. Amplitud de transición. El sistema puede recibir dos vectores y calcular la probabilidad de transitar de el uno al otro después de hacer la observación"
   ]
  },
  {
   "cell_type": "code",
   "execution_count": 15,
   "metadata": {},
   "outputs": [
    {
     "name": "stdout",
     "output_type": "stream",
     "text": [
      "La probabilidad de transición es: 1\n"
     ]
    }
   ],
   "source": [
    "import numpy as np\n",
    "\n",
    "# Definir los vectores inicial y final\n",
    "vector_inicial = np.array([0, 1, 0])  # Estado inicial\n",
    "vector_final = np.array([0, 1, 1])  # Estado final\n",
    "\n",
    "# Calcular la amplitud de transición usando el producto interno\n",
    "amplitud_transicion = np.dot(vector_final.conj(), vector_inicial)\n",
    "\n",
    "# Calcular la probabilidad de transición después de la observación\n",
    "probabilidad_transicion = np.abs(amplitud_transicion)**2\n",
    "\n",
    "print(f\"La probabilidad de transición es: {probabilidad_transicion}\")\n"
   ]
  },
  {
   "cell_type": "markdown",
   "metadata": {},
   "source": [
    "2. Ahora con una matriz que describa un observable y un vector ket, el sistema revisa que la matriz sea hermitiana, y si lo es, calcula la media y la varianza del observable en el estado dado."
   ]
  },
  {
   "cell_type": "code",
   "execution_count": 16,
   "metadata": {},
   "outputs": [
    {
     "name": "stdout",
     "output_type": "stream",
     "text": [
      "La media del observable es: 1.723857625084603\n",
      "La varianza del observable es: 0.6476030138606879\n"
     ]
    }
   ],
   "source": [
    "import numpy as np\n",
    "\n",
    "def calcular_media_varianza(observable, estado):\n",
    "    # Verificar si la matriz observable es hermitiana\n",
    "    if not np.allclose(observable, observable.conj().T):\n",
    "        return \"Error: La matriz observable no es hermitiana\"\n",
    "\n",
    "    # Calcular la media del observable en el estado dado\n",
    "    media_observable = np.dot(estado.conj().T, np.dot(observable, estado)).real\n",
    "\n",
    "    # Calcular la varianza del observable\n",
    "    estado_transformado = np.dot(observable, estado)\n",
    "    varianza_observable = np.dot(estado.conj().T, np.dot(observable, estado_transformado)).real - media_observable ** 2\n",
    "\n",
    "    return media_observable, varianza_observable\n",
    "\n",
    "# Definir una matriz observable hermitiana y un vector ket\n",
    "matriz_observable = np.array([[2, -1j], [1j, 3]]) \n",
    "vector_estado = np.array([np.sqrt(3)/3, np.sqrt(6)/3j])\n",
    "\n",
    "# Calcular la media y la varianza\n",
    "media, varianza = calcular_media_varianza(matriz_observable, vector_estado)\n",
    "\n",
    "print(f\"La media del observable es: {media.item()}\")\n",
    "print(f\"La varianza del observable es: {varianza.item()}\")"
   ]
  },
  {
   "cell_type": "markdown",
   "metadata": {},
   "source": [
    "3. El sistema calcula los valores propios del observable y la probabilidad de que el sistema transite a alguno de los vectores propios después de la observación."
   ]
  },
  {
   "cell_type": "code",
   "execution_count": 17,
   "metadata": {},
   "outputs": [
    {
     "name": "stdout",
     "output_type": "stream",
     "text": [
      "Valores propios del observable: [1.38196601 3.61803399]\n",
      "Probabilidades de transición a los vectores propios: [[0.2763932]\n",
      " [0.7236068]]\n"
     ]
    }
   ],
   "source": [
    "import numpy as np\n",
    "\n",
    "def calcular_probabilidad_transicion(observable, estado):\n",
    "    # Calcula los valores y vectores propios de la matriz observable\n",
    "    valores_propios, vectores_propios = np.linalg.eig(observable)\n",
    "\n",
    "    # Calcula las probabilidades de transición a los vectores propios\n",
    "    probabilidades_transicion = np.abs(np.dot(vectores_propios.conj().T, estado)) ** 2\n",
    "\n",
    "    return valores_propios, probabilidades_transicion\n",
    "\n",
    "# Datos\n",
    "observable = np.array([[2, 1], [1, 3]]) \n",
    "estado = np.array([[0], [1]])  \n",
    "\n",
    "valores_propios, probabilidades_transicion = calcular_probabilidad_transicion(observable, estado)\n",
    "print(\"Valores propios del observable:\", valores_propios)\n",
    "print(\"Probabilidades de transición a los vectores propios:\", probabilidades_transicion)"
   ]
  },
  {
   "cell_type": "markdown",
   "metadata": {},
   "source": [
    "4. Se considera la dinámica del sistema. Ahora con una serie de matrices Un el sistema calcula el estado final a partir de un estado inicial."
   ]
  },
  {
   "cell_type": "code",
   "execution_count": 18,
   "metadata": {},
   "outputs": [
    {
     "name": "stdout",
     "output_type": "stream",
     "text": [
      "El estado final del sistema es: [0.+0.j 0.-1.j]\n"
     ]
    }
   ],
   "source": [
    "import numpy as np\n",
    "\n",
    "def evolucionar_estado(estado_inicial, operadores_unitarios):\n",
    "    estado_resultante = estado_inicial\n",
    "    for operador in operadores_unitarios:\n",
    "        estado_resultante = np.dot(operador, estado_resultante)\n",
    "    return estado_resultante\n",
    "\n",
    "# Definir el estado inicial y las matrices unitarias\n",
    "estado_inicial = np.array([0, 1])  \n",
    "operadores_unitarios = [np.array([[0, -1j], [1j, 0]]), \n",
    "                         np.array([[0, 1], [1, 0]])]\n",
    "\n",
    "# Calcular el estado final\n",
    "estado_final = evolucionar_estado(estado_inicial, operadores_unitarios)\n",
    "print(\"El estado final del sistema es:\", estado_final)"
   ]
  },
  {
   "cell_type": "markdown",
   "metadata": {},
   "source": [
    "## Realice los siguientes problemas e incluyalos como ejemplos\n",
    "\n",
    "Modele en su librería los problemas.\n",
    "\n",
    "# 4.3.1\n",
    "Find all the possible states the system described in Exercise 4.2.2 can transition into after a measurement has been carried out."
   ]
  },
  {
   "cell_type": "code",
   "execution_count": 21,
   "metadata": {},
   "outputs": [
    {
     "name": "stdout",
     "output_type": "stream",
     "text": [
      "Probabilidad de transición en spin up: 0\n",
      "Probabilidad de transición en spin down: 1\n"
     ]
    }
   ],
   "source": [
    "import numpy as np\n",
    "\n",
    "estado_inicial = np.array([1, 0])\n",
    "Sx = np.array([[0, 1], [1, 0]])\n",
    "estado_resultante = np.dot(Sx, estado_inicial)\n",
    "\n",
    "# Cálculo de la probabilidad de spin up y spin down\n",
    "probabilidad_spin_up = abs(estado_resultante[0])**2\n",
    "probabilidad_spin_down = abs(estado_resultante[1])**2\n",
    "\n",
    "print(\"Probabilidad de transición en spin up:\", probabilidad_spin_up)\n",
    "print(\"Probabilidad de transición en spin down:\", probabilidad_spin_down)\n"
   ]
  },
  {
   "cell_type": "markdown",
   "metadata": {},
   "source": [
    "# 4.3.2\n",
    "\n",
    "Perform the same calculations as in the last example, using Exer\n",
    "cise 4.3.1. Then draw the probability distribution of the eigenvalues as in the previous example."
   ]
  },
  {
   "cell_type": "code",
   "execution_count": null,
   "metadata": {},
   "outputs": [
    {
     "name": "stdout",
     "output_type": "stream",
     "text": [
      "Probabilidad de transición a spin up: 0\n",
      "Probabilidad de transición a spin down: 1\n"
     ]
    },
    {
     "data": {
      "image/png": "[encoded data removed]",
      "text/plain": [
       "<Figure size 640x480 with 1 Axes>"
      ]
     },
     "metadata": {},
     "output_type": "display_data"
    }
   ],
   "source": [
    "import numpy as np\n",
    "import matplotlib.pyplot as plt\n",
    "\n",
    "# Definir el estado inicial\n",
    "estado = np.array([1, 0])\n",
    "\n",
    "# Definir la matriz del operador Sy\n",
    "operador_sy = np.array([[0, 1], [1, 0]])\n",
    "estado_final = np.dot(operador_sy, estado)\n",
    "\n",
    "# Calcular las probabilidades de los estados resultantes\n",
    "prob_up = np.abs(estado_final[0])**2\n",
    "prob_down = np.abs(estado_final[1])**2\n",
    "\n",
    "# Mostrar las probabilidades calculadas\n",
    "print(f\"Probabilidad de transición a spin up: {prob_up}\")\n",
    "print(f\"Probabilidad de transición a spin down: {prob_down}\")\n",
    "\n",
    "# Obtener los valores propios del operador Sy\n",
    "valores, _ = np.linalg.eig(operador_sy)\n",
    "\n",
    "# Graficamos\n",
    "plt.bar(range(len(valores)), np.abs(estado_final)**2, tick_label=valores)\n",
    "plt.xlabel('Valores propios')\n",
    "plt.ylabel('Probabilidad')\n",
    "plt.title('Distribución de probabilidad de los valores propios')\n",
    "plt.show()\n"
   ]
  },
  {
   "cell_type": "markdown",
   "metadata": {},
   "source": [
    "# 4.4.1\n",
    "\n",
    "Verify that\n"
   ]
  },
  {
   "cell_type": "markdown",
   "metadata": {},
   "source": [
    "$$\n",
    "U_1 =\n",
    "\\begin{bmatrix}\n",
    "0 & 1 \\\\\n",
    "1 & 0\n",
    "\\end{bmatrix}\n",
    "\\quad \\text{and} \\quad\n",
    "U_2 =\n",
    "\\begin{bmatrix}\n",
    "\\frac{\\sqrt{2}}{2} & \\frac{\\sqrt{2}}{2} \\\\\n",
    "\\frac{\\sqrt{2}}{2} & -\\frac{\\sqrt{2}}{2}\n",
    "\\end{bmatrix}\n",
    "$$\n"
   ]
  },
  {
   "cell_type": "markdown",
   "metadata": {},
   "source": [
    "are unitary matrices. Multiply them and verify that their product is also unitary."
   ]
  },
  {
   "cell_type": "code",
   "execution_count": 25,
   "metadata": {},
   "outputs": [
    {
     "name": "stdout",
     "output_type": "stream",
     "text": [
      "U1 es unitaria\n",
      "U2 es unitaria\n",
      "El producto de U1 y U2 es unitario\n"
     ]
    }
   ],
   "source": [
    "import numpy as np\n",
    "\n",
    "U1 = np.array([[0, 1], [1, 0]])\n",
    "U2 = np.array([[np.sqrt(2)/2, np.sqrt(2)/2], [np.sqrt(2)/2, -np.sqrt(2)/2]])\n",
    "\n",
    "es_unitaria_U1 = np.allclose(np.eye(2), np.dot(U1.T.conj(), U1))\n",
    "es_unitaria_U2 = np.allclose(np.eye(2), np.dot(U2.T.conj(), U2))\n",
    "\n",
    "producto = np.dot(U1, U2)\n",
    "es_unitario_producto = np.allclose(np.eye(2), np.dot(producto.T.conj(), producto))\n",
    "\n",
    "print(f\"U1 {'es' if es_unitaria_U1 else 'no es'} unitaria\")\n",
    "print(f\"U2 {'es' if es_unitaria_U2 else 'no es'} unitaria\")\n",
    "print(f\"El producto de U1 y U2 {'es' if es_unitario_producto else 'no es'} unitario\")\n"
   ]
  },
  {
   "cell_type": "markdown",
   "metadata": {},
   "source": [
    "# 4.4.2\n",
    "\n",
    "Go back to Example 3.3.2 (quantum billiard ball), keep the same initial state vector\n",
    "\\begin{bmatrix} 1 & 0 & 0 & 0 \\end{bmatrix}^T\n",
    "\n",
    "but change the unitary map to"
   ]
  },
  {
   "cell_type": "markdown",
   "metadata": {},
   "source": [
    "\n",
    "\\begin{bmatrix}\n",
    "0 & \\frac{1}{\\sqrt{2}} & \\frac{1}{\\sqrt{2}} & 0 \\\\\n",
    "\\frac{i}{\\sqrt{2}} & 0 & 0 & \\frac{1}{\\sqrt{2}} \\\\\n",
    "\\frac{1}{\\sqrt{2}} & 0 & 0 & \\frac{i}{\\sqrt{2}} \\\\\n",
    "0 & \\frac{1}{\\sqrt{2}} & -\\frac{1}{\\sqrt{2}} & 0\n",
    "\\end{bmatrix}\n",
    "\n"
   ]
  },
  {
   "cell_type": "markdown",
   "metadata": {},
   "source": [
    "Determine the state of the system after three time steps. What is the probability of finding the quantum ball at point 3?"
   ]
  },
  {
   "cell_type": "code",
   "execution_count": 32,
   "metadata": {},
   "outputs": [
    {
     "name": "stdout",
     "output_type": "stream",
     "text": [
      "Estado final después de 3 pasos: [ 0.    +0.j     -0.7071+0.7071j  0.    +0.j      0.    +0.j    ]\n",
      "Probabilidad de encontrar la bola cuántica en el punto 3: 0.0\n"
     ]
    }
   ],
   "source": [
    "import numpy as np\n",
    "\n",
    "mapa = np.array([\n",
    "    [0, 1/np.sqrt(2), 1/np.sqrt(2), 0],\n",
    "    [1j/np.sqrt(2), 0, 0, 1/np.sqrt(2)],\n",
    "    [1/np.sqrt(2), 0, 0, 1j/np.sqrt(2)],\n",
    "    [0, 1/np.sqrt(2), -1/np.sqrt(2), 0]\n",
    "])\n",
    "\n",
    "estado_inicial = np.array([1, 0, 0, 0])\n",
    "\n",
    "estado_temp = np.dot(mapa, estado_inicial)\n",
    "estado_temp = np.dot(mapa, estado_temp)\n",
    "estado_final = np.dot(mapa, estado_temp)\n",
    "\n",
    "probabilidad_punto = np.abs(estado_final[2])**2\n",
    "\n",
    "print(\"Estado final después de 3 pasos:\", estado_final)\n",
    "print(\"Probabilidad de encontrar la bola cuántica en el punto 3:\", probabilidad_punto)\n"
   ]
  },
  {
   "cell_type": "markdown",
   "metadata": {},
   "source": [
    "# Desarrolle e incluya en el Github una discusión de los ejercicios 4.5.2 y 4.5.3"
   ]
  },
  {
   "cell_type": "markdown",
   "metadata": {},
   "source": [
    "## 4.5.2\n",
    "\n",
    "Escribe el vector de estado genérico para el sistema de dos partículas con espín. Generalízalo a un sistema con *n* partículas (esto es importante: ¡será la realización física de los registros cuánticos!)."
   ]
  },
  {
   "cell_type": "markdown",
   "metadata": {},
   "source": [
    "R/ El estado general de un sistema compuesto por dos partículas con espín, representado como\n",
    "\n",
    "$$\n",
    "|\\Psi\\rangle \n",
    "$$\n",
    "\n",
    "se obtiene a partir del producto tensorial de los estados individuales de cada partícula:"
   ]
  },
  {
   "cell_type": "markdown",
   "metadata": {},
   "source": [
    "$$\n",
    "|\\Psi\\rangle = |\\psi_1\\rangle \\otimes |\\psi_2\\rangle\n",
    "$$\n"
   ]
  },
  {
   "cell_type": "markdown",
   "metadata": {},
   "source": [
    "Para extender este concepto a un sistema de n particulas, solo tenemos que aplicar el producto tensorial a los vectores de esatdo de todas las particulas involucradas:"
   ]
  },
  {
   "cell_type": "markdown",
   "metadata": {},
   "source": [
    "\n",
    "$$\n",
    "|\\Psi\\rangle = |\\psi_1\\rangle \\otimes |\\psi_2\\rangle \\otimes \\dots \\otimes |\\psi_n\\rangle\n",
    "$$\n"
   ]
  },
  {
   "cell_type": "markdown",
   "metadata": {},
   "source": [
    "## 4.5.3\n",
    "\n",
    "Asume el mismo escenario que en el ejemplo 4.5.2 y sea:"
   ]
  },
  {
   "cell_type": "markdown",
   "metadata": {},
   "source": [
    "$$|\\phi\\rangle = |x_0\\rangle \\otimes |y_1\\rangle + |x_1\\rangle \\otimes |y_1\\rangle.$$\n"
   ]
  },
  {
   "cell_type": "markdown",
   "metadata": {},
   "source": [
    "¿Es este estado separable?"
   ]
  },
  {
   "cell_type": "markdown",
   "metadata": {},
   "source": [
    "R/ Para determinar si el estado dado es separable, verificamos si se puede escribir como el producto tensorial de dos estados individuales.\n",
    "\n",
    "El estado es:"
   ]
  },
  {
   "cell_type": "markdown",
   "metadata": {},
   "source": [
    "$$\n",
    "|\\phi\\rangle = |x_0\\rangle \\otimes |y_1\\rangle + |x_1\\rangle \\otimes |y_1\\rangle.\n",
    "$$\n"
   ]
  },
  {
   "cell_type": "markdown",
   "metadata": {},
   "source": [
    "Si fuera separable, podriamos escribirlo como:"
   ]
  },
  {
   "cell_type": "markdown",
   "metadata": {},
   "source": [
    "$$\n",
    "|\\phi\\rangle = (a_0 |x_0\\rangle + a_1 |x_1\\rangle) \\otimes (b_0 |y_0\\rangle + b_1 |y_1\\rangle).\n",
    "$$\n"
   ]
  },
  {
   "cell_type": "markdown",
   "metadata": {},
   "source": [
    "Pero en la expresión dada, el termino $$ |y_1\\rangle$$ Es comun en ambos terminos. Por lo tanto factorizando:"
   ]
  },
  {
   "cell_type": "markdown",
   "metadata": {},
   "source": [
    "$$\n",
    "|\\phi\\rangle = (|x_0\\rangle + |x_1\\rangle) \\otimes |y_1\\rangle.\n",
    "$$\n"
   ]
  },
  {
   "cell_type": "markdown",
   "metadata": {},
   "source": [
    "Este es claramente un producto tensorial de:"
   ]
  },
  {
   "cell_type": "markdown",
   "metadata": {},
   "source": [
    "$$\n",
    "|x_0\\rangle + |x_1\\rangle, \\quad |y_1\\rangle\n",
    "$$\n"
   ]
  },
  {
   "cell_type": "markdown",
   "metadata": {},
   "source": [
    "Lo que significa que el estado es separable."
   ]
  }
 ],
 "metadata": {
  "kernelspec": {
   "display_name": "Python 3",
   "language": "python",
   "name": "python3"
  },
  "language_info": {
   "codemirror_mode": {
    "name": "ipython",
    "version": 3
   },
   "file_extension": ".py",
   "mimetype": "text/x-python",
   "name": "python",
   "nbconvert_exporter": "python",
   "pygments_lexer": "ipython3",
   "version": "3.13.1"
  }
 },
 "nbformat": 4,
 "nbformat_minor": 2
}
